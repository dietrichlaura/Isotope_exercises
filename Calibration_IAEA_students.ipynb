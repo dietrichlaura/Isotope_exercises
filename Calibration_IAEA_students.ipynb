{
 "cells": [
  {
   "cell_type": "markdown",
   "id": "90933f9b-0454-40a9-9dca-70bea65da2dd",
   "metadata": {},
   "source": [
    "#### Import packages"
   ]
  },
  {
   "cell_type": "code",
   "execution_count": null,
   "id": "e3a8467c-20e1-43ac-9a0d-e1a336ac8597",
   "metadata": {},
   "outputs": [],
   "source": [
    "# import the necessary datasets\n",
    "import pandas as pd # for data handling\n",
    "import numpy as np # for mathematical operations\n",
    "from datetime import datetime,timedelta # for working with dates\n",
    "%matplotlib inline\n",
    "import matplotlib.pyplot as plt # for plotting\n",
    "#style.use('seaborn-whitegrid')\n",
    "import matplotlib\n",
    "import pickle\n",
    "import csv\n",
    "#import xarray as xr\n",
    "\n",
    "# NICE colorscheme for scientific purposes, I can recommend: https://pypi.org/project/cmcrameri/\n",
    "#from cmcrameri import cm\n",
    "#from cmcrameri.cm import show_cmaps \n",
    "\n",
    "pd.set_option('display.max_columns', 40)\n"
   ]
  },
  {
   "cell_type": "markdown",
   "id": "76e7494f-a9d5-4d44-ac36-62e315dbdac5",
   "metadata": {},
   "source": [
    "#### some simple functions to make your life easier"
   ]
  },
  {
   "cell_type": "code",
   "execution_count": null,
   "id": "dfc45d2e-b8d4-4a83-a268-fa2ffbbdf31c",
   "metadata": {
    "tags": []
   },
   "outputs": [],
   "source": [
    "'''import Picarro file for files in normal Air mode (no 17O measurements)'''\n",
    "def loadPICfile_LAB(filePIC):\n",
    "    dfPIC=pd.read_csv(filePIC,index_col=(0),parse_dates=[2],skipinitialspace=True,na_values=['NAN'],dtype={'FRAC_DAYS_SINCE_JAN1': np.float64,'Picarro':str,'Port':str,'Analysis':str,'Port':str,'Sample':str})\n",
    "    dfPIC.rename(inplace=True,columns={ \n",
    "            'd(D_H)Mean': 'dD',\n",
    "            'ValveMask': 'Valve',\n",
    "            'd(18_16)Mean':'d18',\n",
    "            'd(17_16)Mean':'d17',\n",
    "            'H2O_Mean':'H2O',\n",
    "            'FRAC_DAYS_SINCE_JAN1':'DOY',\n",
    "            'Inj Nr':'Inj',\n",
    "            'Time Code':'time',\n",
    "            'd(17_16)_SD':'d17sd',\n",
    "            'd(18_16)_SD':'d18sd',\n",
    "            'd(D_H)_SD':'dDsd'})\n",
    "    # add deuterium excess to the dataframe\n",
    "    dfPIC['dex']=pd.Series(data=(dfPIC.dD-8*dfPIC.d18),index=dfPIC.index)\n",
    "    \n",
    "    return dfPIC\n",
    "\n",
    "''' so I dont always have to type figsize and subplots'''\n",
    "def plot1(figsize=(12,6)):\n",
    "    fig,ax=plt.subplots(1,1,figsize=figsize)\n",
    "    axi=ax.twinx()\n",
    "    ax.tick_params(axis='both', which='major', labelsize=18)\n",
    "    axi.tick_params(axis='both', which='major', labelsize=18)\n",
    "    return fig,ax,axi\n",
    "\n",
    "\n",
    "def plot2(figsize=(12,6),shax=True,timeseries=True):\n",
    "    if timeseries==True:\n",
    "        fig,(ax1,ax2)=plt.subplots(2,1,figsize=figsize,sharex=shax)\n",
    "    if timeseries==False:\n",
    "        fig,(ax1,ax2)=plt.subplots(1,2,figsize=figsize,sharey=shax)        \n",
    "        \n",
    "    ax1.tick_params(axis='both', which='major', labelsize=18)\n",
    "    ax2.tick_params(axis='both', which='major', labelsize=18)\n",
    "    return fig,ax1,ax2\n",
    "\n"
   ]
  },
  {
   "cell_type": "markdown",
   "id": "609b15ce-c831-42bc-8c10-93213627ade0",
   "metadata": {},
   "source": [
    "# Task:\n",
    "__Perform a calibration of the IAEA test samples by averaging the last 5 injections of each sample__"
   ]
  },
  {
   "cell_type": "markdown",
   "id": "ff0b62fb-7716-4670-bfbb-d5b5625325e7",
   "metadata": {},
   "source": [
    "__read in the information about the secondary IN-HOUSE standards from the SNOWISO lab__"
   ]
  },
  {
   "cell_type": "code",
   "execution_count": null,
   "id": "a3544018-3981-4cda-b044-84a6072b760a",
   "metadata": {},
   "outputs": [],
   "source": [
    "# standards\n",
    "filstd='UiB_standards_Mar2025.csv'\n",
    "\n",
    "# TODO: read in dataset and save it on the variable name: dfstd\n",
    "\n",
    "# TODO: Look at the dataset with print(dfstd)"
   ]
  },
  {
   "cell_type": "markdown",
   "id": "8dab5a7a-c76b-4b38-a9a1-fc326275bf04",
   "metadata": {},
   "source": [
    "## Calibrate the IAEA test samples"
   ]
  },
  {
   "cell_type": "markdown",
   "id": "0396649c-5637-4585-839d-733e8da3f9c9",
   "metadata": {},
   "source": [
    "__Step0: Read in data__"
   ]
  },
  {
   "cell_type": "code",
   "execution_count": null,
   "id": "f0e2fa19-9ea7-4c21-97ad-788c06833df8",
   "metadata": {
    "tags": []
   },
   "outputs": [],
   "source": [
    "filePIC1='HKDS2156_IsoWater_20240820_072303.csv'\n",
    "# TODO: read in the dataset from filePIC1 using the function 'loadPICfile_LAB' (see above).\n",
    "# Save it on a variable with name dfPIC1.\n",
    "dfPIC1=\n",
    "\n",
    "filePIC2='HKDS2156_IsoWater_20240827_083808.csv'\n",
    "# TODO: read in the dataset from filePIC1 using the function 'loadPICfile_LAB' (see above).\n",
    "# Save it on a variable with name dfPIC2.\n",
    "dfPIC2=\n",
    "\n",
    "# TODO: Create a list of all different \"Identifier 1\" and remove/drop all duplicate entries.\n",
    "# Save it on a variable with name 'samples'.\n",
    "samples=\n",
    "\n",
    "print('The samples identified in the Picarro file:',samples)"
   ]
  },
  {
   "cell_type": "markdown",
   "id": "b4c298f3-9648-4991-b4d7-0bace0c36156",
   "metadata": {},
   "source": [
    "__Step1: average the last 5 injections and use as \"measured value\"__"
   ]
  },
  {
   "cell_type": "code",
   "execution_count": null,
   "id": "fef67a37-db8c-4fab-9be4-3e5ef34e1859",
   "metadata": {},
   "outputs": [],
   "source": [
    "# TODO: Average the only the last 5 datapoints for each of the different Identifiers (from list 'sample' above)\n",
    "# and keep only the columns for 'd18','dD','d17','dex','d18sd','dDsd','d17sd'\n",
    "# you will save the new dataframe that contains only one mean value (of last 5 points) per identifier (lines)\n",
    "# for each of the selected variables (columns). It's ok to use ChatGPT if you need help ;)\n",
    "df5avg=\n",
    "\n",
    "df5avg.head() # show the first few lines only"
   ]
  },
  {
   "cell_type": "code",
   "execution_count": null,
   "id": "b2ffb96a-3999-4aee-8676-572551472bcd",
   "metadata": {},
   "outputs": [],
   "source": [
    "def plot_measurements(inNbSTD, d18STD, inNbSAMPLE, d18SAMPLE, inNbSPY, d18SPY, ax):\n",
    "    \"\"\" inNbSTD, inNbSAMPLE, inNbSPY : injection Number of STD, SAMPLE, and SPY\n",
    "        d18STD, d18SAMPLE, d18SPY : d18O value of STD, SAMPLE, and SPY\n",
    "    \"\"\"\n",
    "    ax.plot(inNbSTD, d18STD, marker='o',ls='',color='green',label='STD')\n",
    "    ax.plot(inNbSAMPLE, d18SAMPLE, marker='o',ls='',color='blue',label='SAMPLE')\n",
    "    ax.plot(inNbSPY, d18SPY, marker='o',ls='',color='k',label='SPY')\n",
    "    ax.legend()\n",
    "    ax.grid()\n",
    "    ax.set_ylabel(r'$\\delta^{18}$O',fontsize=20)\n",
    "    ax.set_xlabel('Injections')\n",
    "\n",
    "fig,ax1,ax2=plot2()\n",
    "\n",
    "# TODO: save the injection numbers (inNB) and d18O values (d18)\n",
    "# for the \"Identifier 2\" STD, SAMPLE, SPY\n",
    "# for the Picarro data 1 (dfPIC1) and 2 (dfPIC2)\n",
    "# onto the corresponding variable names below.\n",
    "inNbSTD1=\n",
    "d18STD1=\n",
    "inNbSAMPLE1=\n",
    "d18SAMPLE1=\n",
    "inNbSPY1=\n",
    "d18SPY1=\n",
    "\n",
    "inNbSTD2=\n",
    "d18STD2=\n",
    "inNbSAMPLE2=\n",
    "d18SAMPLE2=\n",
    "inNbSPY2=\n",
    "d18SPY2=\n",
    "\n",
    "# Plot the measurements for PIC1 and PIC2\n",
    "plot_measurements(inNbSTD1, d18STD1, inNbSAMPLE1, d18SAMPLE1, inNbSPY1, d18SPY1, ax=ax1)\n",
    "plot_measurements(inNbSTD2, d18STD2, inNbSAMPLE2, d18SAMPLE2, inNbSPY2, d18SPY2, ax=ax2)"
   ]
  },
  {
   "cell_type": "markdown",
   "id": "a393e5ea-8522-4106-a211-d23c2fb1ccfe",
   "metadata": {},
   "source": [
    "General formula for calibration"
   ]
  },
  {
   "attachments": {
    "569b7774-106e-4784-b549-97ed638633da.png": {
     "image/png": "[encoded data removed]"
    }
   },
   "cell_type": "markdown",
   "id": "663e2e17-d68f-4859-91d5-6370d29cad23",
   "metadata": {},
   "source": [
    "![image.png](attachment:569b7774-106e-4784-b549-97ed638633da.png)"
   ]
  },
  {
   "cell_type": "markdown",
   "id": "8f4af0b9-8b77-404e-9f7f-37ddaec9b18a",
   "metadata": {},
   "source": [
    "establish a calibration function"
   ]
  },
  {
   "cell_type": "code",
   "execution_count": null,
   "id": "e737fa82-ef1a-4fa2-9841-262a5165f8d6",
   "metadata": {},
   "outputs": [],
   "source": [
    "# TODO: write a function that calibrates the data based on the BERMUDA and M54 standards\n",
    "def calibrate(dsample,iso='d18', dfstd=dfstd):\n",
    "    ''' dsample: isotope data of the sample\n",
    "        iso: isotope species (d17 / d18 / dD) given in the \"standard dataframe\" dfstd\n",
    "    '''\n",
    "    m= # slope of calibration function\n",
    "    c= # intercept of calibration function\n",
    "    x= # sample isotope data in difference to the BERMUDA standard\n",
    "    return (m*x+c).round(3) # return linear calibration function and round the result to three digets\n",
    "    \n",
    "    "
   ]
  },
  {
   "cell_type": "code",
   "execution_count": null,
   "id": "fe10b767-dca6-4e89-8186-ac08a3685896",
   "metadata": {},
   "outputs": [],
   "source": [
    "# TODO: Apply the calibration function to all SPY samples and for the OH sample\n",
    "# for d18O, d17O and dD and save it to the corresponding variables\n",
    "dfSPYcali_d18=\n",
    "dfSPYcali_d17=\n",
    "dfSPYcali_dD=\n",
    "\n",
    "dfcali_d18=\n",
    "dfcali_d17=\n",
    "dfcali_dD="
   ]
  },
  {
   "cell_type": "code",
   "execution_count": null,
   "id": "8940512d-99d8-4d74-8362-e072cb96799e",
   "metadata": {},
   "outputs": [],
   "source": [
    "# Print the error of the SPY samples\n",
    "print('Error d18O: \\n',dfSPYcali_d18-dfstd.loc[['M10','M20'],'d18'],'\\n-----------------------------------------')\n",
    "print('Error d17O: \\n',dfSPYcali_d17-dfstd.loc[['M10','M20'],'d17'],'\\n-----------------------------------------')\n",
    "print('Error dD: \\n',dfSPYcali_dD-dfstd.loc[['M10','M20'],'dD'],'\\n-----------------------------------------')\n"
   ]
  },
  {
   "cell_type": "markdown",
   "id": "704f0848-da5f-4030-90c5-a302722e3a49",
   "metadata": {},
   "source": [
    "## results of calibrated values:\n"
   ]
  },
  {
   "cell_type": "code",
   "execution_count": null,
   "id": "d2e4ac2e-ea80-47ae-87c7-c642ca890147",
   "metadata": {},
   "outputs": [],
   "source": [
    "# TODO: Print results of calibrated OH samples for d18O, d17O, dD"
   ]
  },
  {
   "cell_type": "markdown",
   "id": "7fa9f4e0-9245-468f-86a3-79154073a012",
   "metadata": {},
   "source": [
    "# Error propagation d-excess"
   ]
  },
  {
   "cell_type": "code",
   "execution_count": null,
   "id": "9f727140-468c-4c6c-906d-feec17561aad",
   "metadata": {},
   "outputs": [],
   "source": [
    "# TODO: calculate the total error of d-excess with an error of 0.1 for d18O and 1 for dD"
   ]
  }
 ],
 "metadata": {
  "kernelspec": {
   "display_name": "Python [conda env:base] *",
   "language": "python",
   "name": "conda-base-py"
  },
  "language_info": {
   "codemirror_mode": {
    "name": "ipython",
    "version": 3
   },
   "file_extension": ".py",
   "mimetype": "text/x-python",
   "name": "python",
   "nbconvert_exporter": "python",
   "pygments_lexer": "ipython3",
   "version": "3.12.7"
  }
 },
 "nbformat": 4,
 "nbformat_minor": 5
}
