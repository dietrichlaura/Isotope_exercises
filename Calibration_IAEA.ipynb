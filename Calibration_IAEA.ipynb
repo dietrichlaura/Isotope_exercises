{
 "cells": [
  {
   "cell_type": "markdown",
   "id": "90933f9b-0454-40a9-9dca-70bea65da2dd",
   "metadata": {},
   "source": []
  },
  {
   "cell_type": "code",
   "execution_count": 5,
   "id": "e3a8467c-20e1-43ac-9a0d-e1a336ac8597",
   "metadata": {},
   "outputs": [],
   "source": [
    "# import the necessary datasets\n",
    "import pandas as pd # for data handling\n",
    "import numpy as np # for mathematical operations\n",
    "from datetime import datetime,timedelta # for working with dates\n",
    "%matplotlib inline\n",
    "import matplotlib.pyplot as plt # for plotting\n",
    "#style.use('seaborn-whitegrid')\n",
    "import matplotlib\n",
    "import pickle\n",
    "import csv\n",
    "#import xarray as xr\n",
    "\n",
    "# NICE colorscheme for scientific purposes, I can recommend: https://pypi.org/project/cmcrameri/\n",
    "#from cmcrameri import cm\n",
    "#from cmcrameri.cm import show_cmaps \n",
    "\n",
    "pd.set_option('display.max_columns', 40)\n"
   ]
  },
  {
   "cell_type": "markdown",
   "id": "76e7494f-a9d5-4d44-ac36-62e315dbdac5",
   "metadata": {},
   "source": [
    "some simple functions to make your life easier"
   ]
  },
  {
   "cell_type": "code",
   "execution_count": 37,
   "id": "dfc45d2e-b8d4-4a83-a268-fa2ffbbdf31c",
   "metadata": {
    "tags": []
   },
   "outputs": [],
   "source": [
    "'''import Picarro file for files in normal Air mode (no 17O measurements)'''\n",
    "def loadPICfile_LAB(filePIC):\n",
    "    dfPIC=pd.read_csv(filePIC,index_col=(0),parse_dates=[2],skipinitialspace=True,na_values=['NAN'],dtype={'FRAC_DAYS_SINCE_JAN1': np.float64,'Picarro':str,'Port':str,'Analysis':str,'Port':str,'Sample':str})\n",
    "    dfPIC.rename(inplace=True,columns={ \n",
    "            'd(D_H)Mean': 'dD',\n",
    "            'ValveMask': 'Valve',\n",
    "            'd(18_16)Mean':'d18',\n",
    "            'd(17_16)Mean':'d17',\n",
    "            'H2O_Mean':'H2O',\n",
    "            'FRAC_DAYS_SINCE_JAN1':'DOY',\n",
    "            'Inj Nr':'Inj',\n",
    "            'Time Code':'time',\n",
    "            'd(17_16)_SD':'d17sd',\n",
    "            'd(18_16)_SD':'d18sd',\n",
    "            'd(D_H)_SD':'dDsd'})\n",
    "    # add deuterium excess to the dataframe\n",
    "    dfPIC['dex']=pd.Series(data=(dfPIC.dD-8*dfPIC.d18),index=dfPIC.index)\n",
    "    \n",
    "    return dfPIC\n",
    "\n",
    "''' so I dont always have to type figsize and subplots'''\n",
    "def plot1(figsize=(12,6)):\n",
    "    fig,ax=plt.subplots(1,1,figsize=figsize)\n",
    "    axi=ax.twinx()\n",
    "    ax.tick_params(axis='both', which='major', labelsize=18)\n",
    "    axi.tick_params(axis='both', which='major', labelsize=18)\n",
    "    return fig,ax,axi\n",
    "\n",
    "\n",
    "def plot2(figsize=(12,6),shax=True,timeseries=True):\n",
    "    if timeseries==True:\n",
    "        fig,(ax1,ax2)=plt.subplots(2,1,figsize=figsize,sharex=shax)\n",
    "    if timeseries==False:\n",
    "        fig,(ax1,ax2)=plt.subplots(1,2,figsize=figsize,sharey=shax)        \n",
    "        \n",
    "    ax1.tick_params(axis='both', which='major', labelsize=18)\n",
    "    ax2.tick_params(axis='both', which='major', labelsize=18)\n",
    "    return fig,ax1,ax2\n",
    "\n"
   ]
  },
  {
   "cell_type": "code",
   "execution_count": null,
   "id": "bdcfecd2-98ec-43e1-9d39-09a1af3deedd",
   "metadata": {},
   "outputs": [],
   "source": [
    "# If you want to reset all variables without reloading all modules\n",
    "%reset -f\n",
    "var"
   ]
  },
  {
   "cell_type": "markdown",
   "id": "609b15ce-c831-42bc-8c10-93213627ade0",
   "metadata": {},
   "source": [
    "# Task:\n",
    "__Perform a calibration of the IAEA test samples by averaging the last 5 injections of each sample__"
   ]
  },
  {
   "cell_type": "markdown",
   "id": "ff0b62fb-7716-4670-bfbb-d5b5625325e7",
   "metadata": {},
   "source": [
    "__read in the information about the secondary IN-HOUSE standards from the SNOWISO lab__"
   ]
  },
  {
   "cell_type": "code",
   "execution_count": 7,
   "id": "a3544018-3981-4cda-b044-84a6072b760a",
   "metadata": {},
   "outputs": [
    {
     "name": "stdout",
     "output_type": "stream",
     "text": [
      "                     d17        d18          dD\n",
      "Name                                           \n",
      "BERMUDA         0.488166   0.924932    8.382397\n",
      "M10            -5.152775  -9.766813  -66.599696\n",
      "M20           -10.383131 -19.552503 -144.524283\n",
      "M30           -15.713870 -29.530051 -224.152118\n",
      "M43           -22.743271 -42.691800 -329.140380\n",
      "M54           -28.855076 -53.940519 -422.917598\n",
      "UIB-GREENLAND   0.000000 -41.830000 -322.290000\n",
      "LSCE-VSAEL      0.000000 -61.050000 -475.040000\n",
      "UNIVE-DC        0.000000 -52.400000 -407.130000\n",
      "AWI-LDC         0.000000 -49.150000 -383.670000\n"
     ]
    }
   ],
   "source": [
    "# standards\n",
    "filstd='UiB_standards_Mar2025.csv'\n",
    "dfstd=pd.read_csv(filstd,index_col=0)\n",
    "\n",
    "#dfstd.to_pickle('Standards_pickle.pkl')\n",
    "print(dfstd)"
   ]
  },
  {
   "cell_type": "markdown",
   "id": "8dab5a7a-c76b-4b38-a9a1-fc326275bf04",
   "metadata": {},
   "source": [
    "calibrate the IAEA test samples"
   ]
  },
  {
   "cell_type": "code",
   "execution_count": 41,
   "id": "53a99d11-8e84-4e4e-b661-a7123982b81e",
   "metadata": {},
   "outputs": [
    {
     "data": {
      "text/plain": [
       "Index(['Analysis', 'time', 'Port', 'Inj', 'd17', 'd18', 'dD', 'E17_Mean',\n",
       "       'H2O', 'Ignore', 'Good', 'Identifier 1', 'Identifier 2',\n",
       "       'Gas Configuration', 'Timestamp Mean', 'd17sd', 'd18sd', 'dDsd',\n",
       "       'E17_SD', 'H2O_SD', 'd(18_16)_Sl', 'd(D_H)_Sl', 'H2O_Sl',\n",
       "       'baseline_shift', 'slope_shift', 'residuals', 'baseline_curvature',\n",
       "       'interval', 'ch4_ppm', 'h16od_adjust', 'h16od_shift', 'n2_flag',\n",
       "       'DAS Temp', 'Tray', 'Sample', 'Job', 'Method', 'Error Code',\n",
       "       'Pulse Good', 'dex'],\n",
       "      dtype='object')"
      ]
     },
     "execution_count": 41,
     "metadata": {},
     "output_type": "execute_result"
    }
   ],
   "source": [
    "dfPIC1.columns"
   ]
  },
  {
   "cell_type": "code",
   "execution_count": 39,
   "id": "f0e2fa19-9ea7-4c21-97ad-788c06833df8",
   "metadata": {
    "tags": []
   },
   "outputs": [
    {
     "name": "stdout",
     "output_type": "stream",
     "text": [
      "The samples identified in the Picarro file: ['BERMUDA', 'OH_32', 'OH_34', 'M10', 'OH_35', 'OH_31', 'M20', 'OH_33', 'M54']\n"
     ]
    }
   ],
   "source": [
    "filePIC1='HKDS2156_IsoWater_20240820_072303.csv'\n",
    "dfPIC1=loadPICfile_LAB(filePIC1)\n",
    "dfPIC1meas=pd.DataFrame(columns=['d18','dD','d17','d18sd','dDsd','d17sd'])\n",
    "\n",
    "filePIC2='HKDS2156_IsoWater_20240827_083808.csv'\n",
    "dfPIC2=loadPICfile_LAB(filePIC2)\n",
    "\n",
    "samples=list(dfPIC1['Identifier 1'].drop_duplicates())\n",
    "print('The samples identified in the Picarro file:',samples)\n"
   ]
  },
  {
   "cell_type": "markdown",
   "id": "b4c298f3-9648-4991-b4d7-0bace0c36156",
   "metadata": {},
   "source": [
    "__Step1: average the last 5 injections and use as \"measured value\"__"
   ]
  },
  {
   "cell_type": "code",
   "execution_count": 47,
   "id": "fef67a37-db8c-4fab-9be4-3e5ef34e1859",
   "metadata": {},
   "outputs": [
    {
     "data": {
      "text/html": [
       "<div>\n",
       "<style scoped>\n",
       "    .dataframe tbody tr th:only-of-type {\n",
       "        vertical-align: middle;\n",
       "    }\n",
       "\n",
       "    .dataframe tbody tr th {\n",
       "        vertical-align: top;\n",
       "    }\n",
       "\n",
       "    .dataframe thead th {\n",
       "        text-align: right;\n",
       "    }\n",
       "</style>\n",
       "<table border=\"1\" class=\"dataframe\">\n",
       "  <thead>\n",
       "    <tr style=\"text-align: right;\">\n",
       "      <th></th>\n",
       "      <th>d18</th>\n",
       "      <th>dD</th>\n",
       "      <th>d17</th>\n",
       "      <th>dex</th>\n",
       "      <th>d18sd</th>\n",
       "      <th>dDsd</th>\n",
       "      <th>d17sd</th>\n",
       "    </tr>\n",
       "    <tr>\n",
       "      <th>Identifier 1</th>\n",
       "      <th></th>\n",
       "      <th></th>\n",
       "      <th></th>\n",
       "      <th></th>\n",
       "      <th></th>\n",
       "      <th></th>\n",
       "      <th></th>\n",
       "    </tr>\n",
       "  </thead>\n",
       "  <tbody>\n",
       "    <tr>\n",
       "      <th>BERMUDA</th>\n",
       "      <td>-12.4722</td>\n",
       "      <td>32.11940</td>\n",
       "      <td>-9.81260</td>\n",
       "      <td>131.89700</td>\n",
       "      <td>0.18340</td>\n",
       "      <td>0.3316</td>\n",
       "      <td>0.2234</td>\n",
       "    </tr>\n",
       "    <tr>\n",
       "      <th>M10</th>\n",
       "      <td>-23.0828</td>\n",
       "      <td>-48.79920</td>\n",
       "      <td>-15.47100</td>\n",
       "      <td>135.86320</td>\n",
       "      <td>0.16120</td>\n",
       "      <td>0.3138</td>\n",
       "      <td>0.2118</td>\n",
       "    </tr>\n",
       "    <tr>\n",
       "      <th>M20</th>\n",
       "      <td>-32.7718</td>\n",
       "      <td>-132.84260</td>\n",
       "      <td>-20.70180</td>\n",
       "      <td>129.33180</td>\n",
       "      <td>0.17260</td>\n",
       "      <td>0.3158</td>\n",
       "      <td>0.2270</td>\n",
       "    </tr>\n",
       "    <tr>\n",
       "      <th>M54</th>\n",
       "      <td>-66.9605</td>\n",
       "      <td>-433.33375</td>\n",
       "      <td>-39.22275</td>\n",
       "      <td>102.35025</td>\n",
       "      <td>0.16375</td>\n",
       "      <td>0.3515</td>\n",
       "      <td>0.2145</td>\n",
       "    </tr>\n",
       "    <tr>\n",
       "      <th>OH_31</th>\n",
       "      <td>-29.2570</td>\n",
       "      <td>-99.44340</td>\n",
       "      <td>-18.76860</td>\n",
       "      <td>134.61260</td>\n",
       "      <td>0.17200</td>\n",
       "      <td>0.3316</td>\n",
       "      <td>0.2150</td>\n",
       "    </tr>\n",
       "  </tbody>\n",
       "</table>\n",
       "</div>"
      ],
      "text/plain": [
       "                  d18         dD       d17        dex    d18sd    dDsd   d17sd\n",
       "Identifier 1                                                                  \n",
       "BERMUDA      -12.4722   32.11940  -9.81260  131.89700  0.18340  0.3316  0.2234\n",
       "M10          -23.0828  -48.79920 -15.47100  135.86320  0.16120  0.3138  0.2118\n",
       "M20          -32.7718 -132.84260 -20.70180  129.33180  0.17260  0.3158  0.2270\n",
       "M54          -66.9605 -433.33375 -39.22275  102.35025  0.16375  0.3515  0.2145\n",
       "OH_31        -29.2570  -99.44340 -18.76860  134.61260  0.17200  0.3316  0.2150"
      ]
     },
     "execution_count": 47,
     "metadata": {},
     "output_type": "execute_result"
    }
   ],
   "source": [
    "#for sample in samples:\n",
    "df5avg=dfPIC1.groupby(dfPIC1['Identifier 1']).apply(lambda g: g.loc[:,['d18','dD','d17','dex','d18sd','dDsd','d17sd']].tail(5).mean(),include_groups=False)\n",
    "      #.reset_index(name='Mean_of_Last_5')\n",
    "\n",
    "df5avg.head()"
   ]
  },
  {
   "cell_type": "code",
   "execution_count": 83,
   "id": "b2ffb96a-3999-4aee-8676-572551472bcd",
   "metadata": {},
   "outputs": [
    {
     "data": {
      "image/png": "[encoded data removed]",
      "text/plain": [
       "<Figure size 1200x600 with 2 Axes>"
      ]
     },
     "execution_count": 83,
     "metadata": {},
     "output_type": "execute_result"
    }
   ],
   "source": [
    "fig,ax1,ax2=plot2()\n",
    "\n",
    "ax1.plot(dfPIC1[dfPIC1['Identifier 2']=='STD'].index,dfPIC1[dfPIC1['Identifier 2']=='STD'].d18,marker='o',ls='',color='green',label='STD')\n",
    "ax1.plot(dfPIC1[dfPIC1['Identifier 2']=='SAMPLE'].index,dfPIC1[dfPIC1['Identifier 2']=='SAMPLE'].d18,marker='o',ls='',color='blue',label='SAMPLE')\n",
    "ax1.plot(dfPIC1[dfPIC1['Identifier 2']=='SPY'].index,dfPIC1[dfPIC1['Identifier 2']=='SPY'].d18,marker='o',ls='',color='k',label='SPY')\n",
    "ax1.legend()\n",
    "ax1.grid()\n",
    "ax1.set_ylabel(r'$\\delta^{18}$O',fontsize=20)\n",
    "\n",
    "ax2.plot(dfPIC2[dfPIC2['Identifier 2']=='STD'].index,dfPIC2[dfPIC2['Identifier 2']=='STD'].d18,marker='o',ls='',color='green',label='STD')\n",
    "ax2.plot(dfPIC2[dfPIC2['Identifier 2']=='SAMPLE'].index,dfPIC2[dfPIC2['Identifier 2']=='SAMPLE'].d18,marker='o',ls='',color='blue',label='SAMPLE')\n",
    "ax2.plot(dfPIC2[dfPIC2['Identifier 2']=='SPY'].index,dfPIC2[dfPIC2['Identifier 2']=='SPY'].d18,marker='o',ls='',color='k',label='SPY')\n",
    "ax2.legend()\n",
    "ax2.grid()\n",
    "ax2.set_xlabel('Injections')\n",
    "ax2.set_ylabel(r'$\\delta^{18}$O',fontsize=20)\n",
    "\n",
    "fig"
   ]
  },
  {
   "cell_type": "markdown",
   "id": "a393e5ea-8522-4106-a211-d23c2fb1ccfe",
   "metadata": {},
   "source": [
    "General formula for calibration"
   ]
  },
  {
   "attachments": {
    "569b7774-106e-4784-b549-97ed638633da.png": {
     "image/png": "[encoded data removed]"
    }
   },
   "cell_type": "markdown",
   "id": "663e2e17-d68f-4859-91d5-6370d29cad23",
   "metadata": {},
   "source": [
    "![image.png](attachment:569b7774-106e-4784-b549-97ed638633da.png)"
   ]
  },
  {
   "cell_type": "markdown",
   "id": "8f4af0b9-8b77-404e-9f7f-37ddaec9b18a",
   "metadata": {},
   "source": [
    "establish calibration function"
   ]
  },
  {
   "cell_type": "code",
   "execution_count": 38,
   "id": "e737fa82-ef1a-4fa2-9841-262a5165f8d6",
   "metadata": {},
   "outputs": [],
   "source": [
    "def calibrate(dsample,iso='d18'):\n",
    "    ''' select d18, d17 or dD as isotope species'''\n",
    "    m=(dfstd.loc['BERMUDA',iso]-dfstd.loc['M54',iso])/(df5avg.loc['BERMUDA',iso]-df5avg.loc['M54',iso])\n",
    "    c=dfstd.loc['BERMUDA',iso]\n",
    "    x=(dsample-df5avg.loc['BERMUDA',iso])\n",
    "    return m*x+c\n",
    "    \n",
    "    "
   ]
  },
  {
   "cell_type": "code",
   "execution_count": 57,
   "id": "fe10b767-dca6-4e89-8186-ac08a3685896",
   "metadata": {},
   "outputs": [],
   "source": [
    "dfSPYcali_d18=calibrate(df5avg[df5avg.index.str.contains('0')].loc[:,'d18'],iso='d18').round(3)\n",
    "dfSPYcali_d17=calibrate(df5avg[df5avg.index.str.contains('0')].loc[:,'d17'],iso='d17').round(3)\n",
    "dfSPYcali_dD=calibrate(df5avg[df5avg.index.str.contains('0')].loc[:,'dD'],iso='dD').round(3)\n",
    "\n",
    "dfcali_d18=calibrate(df5avg[df5avg.index.str.contains('OH')].loc[:,'d18'],iso='d18').round(3)\n",
    "dfcali_d17=calibrate(df5avg[df5avg.index.str.contains('OH')].loc[:,'d17'],iso='d17').round(3)\n",
    "dfcali_dD=calibrate(df5avg[df5avg.index.str.contains('OH')].loc[:,'dD'],iso='dD').round(3)"
   ]
  },
  {
   "cell_type": "code",
   "execution_count": 63,
   "id": "8940512d-99d8-4d74-8362-e072cb96799e",
   "metadata": {},
   "outputs": [
    {
     "name": "stdout",
     "output_type": "stream",
     "text": [
      "Error d18O: \n",
      " Identifier 1\n",
      "M10    0.007813\n",
      "M20    0.037503\n",
      "Name: d18, dtype: float64 \n",
      "-----------------------------------------\n",
      "Error d17O: \n",
      " Identifier 1\n",
      "M10   -0.004225\n",
      "M20    0.007131\n",
      "Name: d17, dtype: float64 \n",
      "-----------------------------------------\n",
      "Error dD: \n",
      " Identifier 1\n",
      "M10    0.000696\n",
      "M20    0.049283\n",
      "Name: dD, dtype: float64 \n",
      "-----------------------------------------\n"
     ]
    }
   ],
   "source": [
    "# error based on SPY\n",
    "\n",
    "print('Error d18O: \\n',dfSPYcali_d18-dfstd.loc[['M10','M20'],'d18'],'\\n-----------------------------------------')\n",
    "print('Error d17O: \\n',dfSPYcali_d17-dfstd.loc[['M10','M20'],'d17'],'\\n-----------------------------------------')\n",
    "print('Error dD: \\n',dfSPYcali_dD-dfstd.loc[['M10','M20'],'dD'],'\\n-----------------------------------------')\n"
   ]
  },
  {
   "cell_type": "markdown",
   "id": "704f0848-da5f-4030-90c5-a302722e3a49",
   "metadata": {},
   "source": [
    "result:\n"
   ]
  },
  {
   "cell_type": "code",
   "execution_count": 65,
   "id": "d2e4ac2e-ea80-47ae-87c7-c642ca890147",
   "metadata": {},
   "outputs": [
    {
     "name": "stdout",
     "output_type": "stream",
     "text": [
      "Result d18O:\n"
     ]
    },
    {
     "data": {
      "text/plain": [
       "Identifier 1\n",
       "OH_31   -15.976\n",
       "OH_32     1.253\n",
       "OH_33   -22.232\n",
       "OH_34    -4.995\n",
       "OH_35   -10.619\n",
       "Name: d18, dtype: float64"
      ]
     },
     "execution_count": 65,
     "metadata": {},
     "output_type": "execute_result"
    }
   ],
   "source": [
    "print('Result d18O:')\n",
    "dfcali_d18"
   ]
  },
  {
   "cell_type": "code",
   "execution_count": 66,
   "id": "e3dc546a-1180-45a3-9970-09c7545068d3",
   "metadata": {},
   "outputs": [
    {
     "name": "stdout",
     "output_type": "stream",
     "text": [
      "Result d17O:\n"
     ]
    },
    {
     "data": {
      "text/plain": [
       "Identifier 1\n",
       "OH_31    -8.447\n",
       "OH_32     0.619\n",
       "OH_33   -11.782\n",
       "OH_34    -2.660\n",
       "OH_35    -5.604\n",
       "Name: d17, dtype: float64"
      ]
     },
     "execution_count": 66,
     "metadata": {},
     "output_type": "execute_result"
    }
   ],
   "source": [
    "print('Result d17O:')\n",
    "dfcali_d17"
   ]
  },
  {
   "cell_type": "code",
   "execution_count": 67,
   "id": "1f501cd2-4b4d-486b-b740-dc6698f69467",
   "metadata": {},
   "outputs": [
    {
     "name": "stdout",
     "output_type": "stream",
     "text": [
      "Result dD:\n"
     ]
    },
    {
     "data": {
      "text/plain": [
       "Identifier 1\n",
       "OH_31   -113.527\n",
       "OH_32     17.197\n",
       "OH_33   -162.702\n",
       "OH_34    -43.775\n",
       "OH_35    -75.276\n",
       "Name: dD, dtype: float64"
      ]
     },
     "execution_count": 67,
     "metadata": {},
     "output_type": "execute_result"
    }
   ],
   "source": [
    "print('Result dD:')\n",
    "dfcali_dD"
   ]
  },
  {
   "cell_type": "code",
   "execution_count": null,
   "id": "666d5756-0534-43e4-99ad-ad94252a9d47",
   "metadata": {},
   "outputs": [],
   "source": []
  },
  {
   "cell_type": "code",
   "execution_count": null,
   "id": "f489db0c-f9f6-4c47-9a2d-e98a31d0cec9",
   "metadata": {},
   "outputs": [],
   "source": []
  }
 ],
 "metadata": {
  "kernelspec": {
   "display_name": "Python [conda env:base] *",
   "language": "python",
   "name": "conda-base-py"
  },
  "language_info": {
   "codemirror_mode": {
    "name": "ipython",
    "version": 3
   },
   "file_extension": ".py",
   "mimetype": "text/x-python",
   "name": "python",
   "nbconvert_exporter": "python",
   "pygments_lexer": "ipython3",
   "version": "3.12.7"
  }
 },
 "nbformat": 4,
 "nbformat_minor": 5
}
